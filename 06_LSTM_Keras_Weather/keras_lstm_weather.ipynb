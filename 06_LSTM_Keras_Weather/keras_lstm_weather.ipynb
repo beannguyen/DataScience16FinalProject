{
 "cells": [
  {
   "cell_type": "code",
   "execution_count": null,
   "metadata": {
    "collapsed": false
   },
   "outputs": [],
   "source": [
    "import os\n",
    "import pandas as pd\n",
    "import csv\n",
    "import theano\n",
    "import theano.tensor as T\n",
    "import lasagne\n",
    "import numpy as np\n",
    "import sklearn.datasets\n",
    "from recurrent import gen_data\n",
    "from keras.models import Sequential\n",
    "from keras.layers.core import Dense, Activation  \n",
    "from keras.layers.recurrent import LSTM\n",
    "from keras.optimizers import RMSprop\n",
    "from keras.regularizers import l2, activity_l2\n",
    "%pylab inline"
   ]
  },
  {
   "cell_type": "code",
   "execution_count": null,
   "metadata": {
    "collapsed": false
   },
   "outputs": [],
   "source": [
    "curr_dir = os.path.dirname('__file__')\n",
    "file_path = os.path.join(curr_dir, \"temps.csv\")"
   ]
  },
  {
   "cell_type": "code",
   "execution_count": null,
   "metadata": {
    "collapsed": false
   },
   "outputs": [],
   "source": [
    "with open(file_path, 'rb') as csvfile:\n",
    "    reader = csv.reader(csvfile)\n",
    "    data = list(reader)\n",
    "\n",
    "data = data[1:-3]\n",
    "for row in data:\n",
    "    row[1] = float(row[1].replace(\"?\", \"\"))\n",
    "df = pd.DataFrame(data, columns=['Date', 'Temperature'])\n",
    "df = pd.DataFrame(df.Temperature)"
   ]
  },
  {
   "cell_type": "code",
   "execution_count": null,
   "metadata": {
    "collapsed": false
   },
   "outputs": [],
   "source": [
    "def create_time_series_epoch(data, ravel=False, n_prev=14):  \n",
    "    \"\"\"\n",
    "    data should be pd.DataFrame()\n",
    "    \"\"\"\n",
    "\n",
    "    docX, docY = [], []\n",
    "    for i in range(len(data)-n_prev):\n",
    "        docX.append(data.iloc[i:i+n_prev].as_matrix())\n",
    "        docY.append(data.iloc[i+n_prev].as_matrix())\n",
    "    alsX = np.array(docX)\n",
    "    alsY = np.array(docY)\n",
    "    if (ravel):\n",
    "        alsY = alsY.ravel()\n",
    "\n",
    "    return alsX, alsY\n",
    "\n",
    "def train_test_split(df, test_size=0.1):  \n",
    "    \"\"\"\n",
    "    This just splits data to training and testing parts\n",
    "    \"\"\"\n",
    "    ntrn = round(len(df) * (1 - test_size))\n",
    "    \n",
    "    X_train, y_train = create_time_series_epoch(df.iloc[0:ntrn])\n",
    "    X_test, y_test = create_time_series_epoch(df.iloc[ntrn:])\n",
    "\n",
    "    x_mean = np.mean(X_train)\n",
    "    x_std = np.std(X_train)\n",
    "    y_mean = np.mean(y_train)\n",
    "    y_std = np.std(y_train)\n",
    "\n",
    "    return (X_train - x_mean, y_train - y_mean), (X_test - x_mean, y_test - y_mean)"
   ]
  },
  {
   "cell_type": "code",
   "execution_count": null,
   "metadata": {
    "collapsed": false
   },
   "outputs": [],
   "source": [
    "(X_train, y_train), (X_test, y_test) = train_test_split(df)  # retrieve data"
   ]
  },
  {
   "cell_type": "code",
   "execution_count": null,
   "metadata": {
    "collapsed": false
   },
   "outputs": [],
   "source": [
    "in_out_neurons = 1  \n",
    "hidden_neurons = 10\n",
    "\n",
    "l2_possibilities_1 = np.logspace(-1, 1, 3)\n",
    "l2_possibilities_2 = np.logspace(-2, 0, 3)\n",
    "\n",
    "best_model = None\n",
    "best_score = 1000\n",
    "\n",
    "for val_1 in l2_possibilities_1:\n",
    "    for val_2 in l2_possibilities_2:\n",
    "        model = Sequential()\n",
    "        model.add(LSTM(hidden_neurons, input_dim=in_out_neurons, W_regularizer=l2(val_1), activation='tanh'))\n",
    "        model.add(Dense(1, W_regularizer=l2(val_2)))\n",
    "        model.compile(loss=\"mean_squared_error\", optimizer=RMSprop(lr=.01))\n",
    "        model.fit(X_train, y_train, nb_epoch=10, verbose=0)\n",
    "        predicted = model.predict(X_test)\n",
    "        rmse = ((predicted - y_test) ** 2).mean(axis=0)\n",
    "        if (rmse < best_score):\n",
    "            best_score = rmse\n",
    "            best_model = model\n",
    "        print \"RMSE for l2 of %f, %f: %f\" % (val_1, val_2, rmse)"
   ]
  },
  {
   "cell_type": "code",
   "execution_count": null,
   "metadata": {
    "collapsed": false
   },
   "outputs": [],
   "source": [
    "predicted = best_model.predict(X_test)\n",
    "print \"Error on train set: %.1f\" % ((best_model.predict(X_train) - y_train) ** 2).mean()\n",
    "print \"Error on test set: %.1f\" % ((best_model.predict(X_test) - y_test) ** 2).mean()\n",
    "print \"Previous day error: %.1f\" % ((X_test[:, -1, :] - y_test) ** 2).mean()"
   ]
  },
  {
   "cell_type": "code",
   "execution_count": null,
   "metadata": {
    "collapsed": false
   },
   "outputs": [],
   "source": [
    "predicted = best_model.predict(X_test)\n",
    "plot(pd.DataFrame(predicted)[40:60])\n",
    "plot(pd.DataFrame(y_test)[40:60])\n",
    "# plot(X_test[:, -1, :][40:60])\n",
    "legend(['pred', 'actual'])"
   ]
  },
  {
   "cell_type": "code",
   "execution_count": null,
   "metadata": {
    "collapsed": true
   },
   "outputs": [],
   "source": []
  }
 ],
 "metadata": {
  "kernelspec": {
   "display_name": "Python 2",
   "language": "python",
   "name": "python2"
  },
  "language_info": {
   "codemirror_mode": {
    "name": "ipython",
    "version": 2
   },
   "file_extension": ".py",
   "mimetype": "text/x-python",
   "name": "python",
   "nbconvert_exporter": "python",
   "pygments_lexer": "ipython2",
   "version": "2.7.6"
  }
 },
 "nbformat": 4,
 "nbformat_minor": 0
}
